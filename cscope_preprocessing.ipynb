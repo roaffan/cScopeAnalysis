{
 "cells": [
  {
   "cell_type": "code",
   "execution_count": 1,
   "id": "d457316a",
   "metadata": {},
   "outputs": [],
   "source": [
    "#from cscope_analysis.crop import cScopeCropGUI\n",
    "import cv2\n",
    "import scipy\n",
    "import caiman as cm\n",
    "import numpy as np\n",
    "import matplotlib.pyplot as plt\n",
    "import h5py\n",
    "from cscope_analysis import cScopeRecording"
   ]
  },
  {
   "cell_type": "code",
   "execution_count": 2,
   "id": "89dd269a",
   "metadata": {},
   "outputs": [],
   "source": [
    "#vid = cScopeRecording(mini_dir='C:/Users/sujin/cscope_gk/2021_12_14/13_18_58', cscope_dir=None)\n",
    "#ddir = 'C:/Users/sujin/cscope_gk/2021_12_14/13_18_58'\n",
    "ddir = 'C:/Users/roaffan/cscope_gk/2021_12_16/12_10_56'\n",
    "vid  = cScopeRecording(mini_dir=ddir, cscope_dir=None)"
   ]
  },
  {
   "cell_type": "code",
   "execution_count": null,
   "id": "783d58de",
   "metadata": {},
   "outputs": [],
   "source": [
    "# movie_file=ddir+'/cscope-analysis/green_mc.mp4'\n",
    "# gm = cm.load(movie_file)\n",
    "# # gm[np.where(gm<1)] = np.min(gm[gm>0])\n",
    "# gm[np.where(gm<1)] = np.mean(gm[gm>0])\n",
    "# plt.imshow(gm[5,:,:])\n",
    "# plt.show()\n",
    "# plt.imshow(gm[30000,:,:])\n",
    "# plt.show()\n",
    "# print(np.shape(gm))\n",
    "# print(\"values of edge pixels in frame 30000:\", gm[30000,0:1,0:46] )\n",
    "# # plt.imshow(gm[90000,:,:])\n",
    "# # plt.show()\n",
    "\n",
    "# # check data after split\n",
    "# movie_file=ddir+'/cscope-analysis/green.mp4'\n",
    "# cap = cv2.VideoCapture(movie_file)\n",
    "# ret, frame = cap.read()    \n",
    "# print(np.shape(frame))\n",
    "# plt.imshow(frame[:,:,2]) \n",
    "# plt.show()\n",
    "\n",
    "# # check data after split\n",
    "# movie_file=ddir+'/cscope-analysis/green_mc.mp4'\n",
    "# cap = cv2.VideoCapture(movie_file)\n",
    "# ret, frame = cap.read()    \n",
    "# print(np.shape(frame))\n",
    "# plt.imshow(frame[:,:,2]) \n",
    "# plt.show()\n",
    "\n",
    "# # green = h5py.File(open(ddir+'/cscope-analysis/green_mc.h5', \"rb\"), mode=\"r\")\n",
    "# # for i in np.arange(0,100):\n",
    "# #     print( \"\\n\", np.count_nonzero(green[\"data\"][:,:,i]==0) )\n",
    "# # green.close()"
   ]
  },
  {
   "cell_type": "code",
   "execution_count": 3,
   "id": "377409b6",
   "metadata": {},
   "outputs": [
    {
     "name": "stderr",
     "output_type": "stream",
     "text": [
      "C:\\Users\\roaffan\\Anaconda3\\envs\\caimanra\\lib\\site-packages\\cscope_analysis\\ts_correction.py:20: UserWarning: Boolean Series key will be reindexed to match DataFrame index.\n",
      "  behcam_ts = behcam_ts[mini_ts[\"ts\"] > cscope_frames[\"teensy_ts\"][0]]\n"
     ]
    },
    {
     "data": {
      "text/plain": [
       "(        frame       ts  buffer_idx channel  cscope_ts\n",
       " 0           6      196           0   green        174\n",
       " 1           8      263           0   green        241\n",
       " 2          10      329           0   green        308\n",
       " 3          12      396           0   green        374\n",
       " 4          14      463           0   green        441\n",
       " ...       ...      ...         ...     ...        ...\n",
       " 94176  188367  6283039           0   green    6282889\n",
       " 94177  188369  6283105           0   green    6282956\n",
       " 94178  188371  6283171           0   green    6283023\n",
       " 94179  188373  6283238           0   green    6283089\n",
       " 94180  188375  6283305           0   green    6283156\n",
       " \n",
       " [94181 rows x 5 columns],\n",
       "         frame       ts  buffer_idx channel  cscope_ts\n",
       " 0           7      230           0    blue        208\n",
       " 1           9      295           0    blue        274\n",
       " 2          11      362           0    blue        341\n",
       " 3          13      429           0    blue        408\n",
       " 4          15      496           0    blue        474\n",
       " ...       ...      ...         ...     ...        ...\n",
       " 94173  188366  6283005           0    blue    6282856\n",
       " 94174  188368  6283071           0    blue    6282923\n",
       " 94175  188370  6283138           0    blue    6282989\n",
       " 94176  188372  6283205           0    blue    6283056\n",
       " 94177  188374  6283272           0    blue    6283123\n",
       " \n",
       " [94178 rows x 5 columns])"
      ]
     },
     "execution_count": 3,
     "metadata": {},
     "output_type": "execute_result"
    }
   ],
   "source": [
    "vid.correct_timestamps(save=True, plot=False, overwrite=True)\n",
    "# vid.split_videos(downsample=8,fps=30,crf=0,crop=None,overwrite=True,progress=True)\n",
    "# vid.interpolate_green(overwrite=True)\n",
    "# vid.motion_correction(use_blue=True, parallel=True, processes=None, splits=14, overwrite=True)\n",
    "\n",
    "# vid.hemodynamic_correction(\n",
    "# #         max_alpha=9000,\n",
    "#         max_alpha=0,\n",
    "#         splits=0,\n",
    "#         n_processes=1,\n",
    "#         use_mc=True,\n",
    "#         progress=False,\n",
    "#         overwrite_hc=True,\n",
    "#         overwrite_h5=True,\n",
    "#         save_hc=True,\n",
    "#         save_h5=True\n",
    "#     )"
   ]
  },
  {
   "cell_type": "code",
   "execution_count": null,
   "id": "bb16daaf",
   "metadata": {},
   "outputs": [],
   "source": [
    "### check motion correction h5 file\n",
    "filename = ddir+'/cscope-analysis/blue.h5'\n",
    "hf = h5py.File(filename, 'r')\n",
    "hf.keys()\n",
    "print(np.shape(np.array(hf.get('data'))))\n",
    "print(np.mean(np.array(hf.get('data')),))\n",
    "print(np.max(np.array(hf.get('data'))))\n",
    "print(np.min(np.array(hf.get('data'))))\n",
    "\n",
    "hf.close()\n"
   ]
  },
  {
   "cell_type": "code",
   "execution_count": null,
   "id": "1dd3b317",
   "metadata": {},
   "outputs": [],
   "source": [
    "# vid.motion_correction(use_blue=True, parallel=True, processes=None, splits=14, overwrite=True)"
   ]
  },
  {
   "cell_type": "code",
   "execution_count": null,
   "id": "9d527de0",
   "metadata": {},
   "outputs": [],
   "source": [
    "# # ### check motion correction h5 file\n",
    "# # filename = ddir+'/cscope-analysis/blue_mc.h5'\n",
    "# # hf = h5py.File(filename, 'r')\n",
    "# # hf.keys()\n",
    "# # print(np.shape(np.array(hf.get('data'))))\n",
    "# # print(np.mean(np.array(hf.get('data')),))\n",
    "# # print(np.max(np.array(hf.get('data'))))\n",
    "# # print(np.min(np.array(hf.get('data'))))\n",
    "# # blue_mc = np.array(hf.get('data'))\n",
    "# # hf.close()\n",
    "\n",
    "# blue_mc = cm.load(ddir+'/cscope-analysis/blue.mp4')\n",
    "# ### plot to check hemodynamic corrected df/f frames\n",
    "# print(np.shape(blue_mc))\n",
    "\n",
    "# plt.imshow(blue_mc[500,:,:])\n",
    "# plt.show()\n",
    "\n",
    "# plt.imshow(blue_mc[5000,:,:])\n",
    "# plt.show()\n",
    "\n",
    "# plt.imshow(blue_mc[50000,:,:])\n",
    "# plt.show()\n",
    "\n",
    "# # plt.imshow(blue_mc[:,:,500])\n",
    "# # plt.show()\n",
    "\n",
    "# # plt.imshow(blue_mc[:,:,5000])\n",
    "# # plt.show()\n",
    "\n",
    "# # plt.imshow(blue_mc[:,:,50000])\n",
    "# # plt.show()\n",
    "\n",
    "# plt.imshow(blue_mc[50000,92:,44:])\n",
    "# print(blue_mc[50000,92:,44:])\n",
    "\n",
    "### check motion correction h5 file\n",
    "filename = ddir+'/cscope-analysis/blue.h5'\n",
    "hf = h5py.File(filename, 'r')\n",
    "hf.keys()\n",
    "print(np.shape(np.array(hf.get('data'))))\n",
    "print(np.mean(np.array(hf.get('data')),))\n",
    "print(np.max(np.array(hf.get('data'))))\n",
    "print(np.min(np.array(hf.get('data'))))\n",
    "blue = np.array(hf.get('data'))\n",
    "hf.close()\n",
    "\n",
    "### save as mat file\n",
    "savedir=ddir+'/cscope-analysis/'\n",
    "# savefile=savedir+'dff_hemo_alpha.mat'\n",
    "savefile=savedir+'blue.mat'\n",
    "scipy.io.savemat(savefile, {'blue':blue})"
   ]
  },
  {
   "cell_type": "code",
   "execution_count": null,
   "id": "4043e325",
   "metadata": {},
   "outputs": [],
   "source": [
    "# plt.imshow(blue_mc[92:,44:,50000])\n",
    "# print(blue_mc[92:,44:,50000])"
   ]
  },
  {
   "cell_type": "code",
   "execution_count": null,
   "id": "bbda33d0",
   "metadata": {
    "scrolled": true
   },
   "outputs": [],
   "source": [
    "# #### check data after motion correct\n",
    "# movie_file= ddir+'/cscope-analysis/blue_mc.mp4'\n",
    "# cap = cv2.VideoCapture(movie_file)\n",
    "# ret, frame = cap.read()    \n",
    "# print(np.shape(frame))\n",
    "# plt.imshow(frame[:,:,2]) \n",
    "\n",
    "# ### check mc h5 files\n",
    "# filename = ddir+'/cscope-analysis/blue_mc.h5'\n",
    "# hf = h5py.File(filename, 'r')\n",
    "# hf.keys()\n",
    "# print(np.shape(np.array(hf.get('data'))))\n",
    "# print( np.array(hf.get('data')) )\n",
    "# print(np.mean(np.array(hf.get('data')),))\n",
    "# print(np.max(np.array(hf.get('data'))))\n",
    "# print(np.min(np.array(hf.get('data'))))\n",
    "# hf.close()\n",
    "\n",
    "### check dff h5 files\n",
    "filename = ddir+'/cscope-analysis/dff.h5'\n",
    "hf = h5py.File(filename, 'r')\n",
    "hf.keys()\n",
    "print(np.shape(np.array(hf.get('dff'))))\n",
    "print(np.mean(np.array(hf.get('dff')),))\n",
    "print(np.max(np.array(hf.get('dff'))))\n",
    "print(np.min(np.array(hf.get('dff'))))\n",
    "dff = np.array(hf.get('dff'))\n",
    "hf.close()\n",
    "\n",
    "# ### plot to check hemodynamic corrected df/f frames\n",
    "# print(np.shape(dff))\n",
    "# plt.imshow(dff[:,:,5])\n",
    "# plt.show()\n",
    "\n",
    "# print(np.shape(dff))\n",
    "# plt.imshow(dff[:,:,30000])\n",
    "# plt.show()\n",
    "\n",
    "# print(np.shape(dff))\n",
    "# plt.imshow(dff[:,:,50000])\n",
    "# plt.show()"
   ]
  },
  {
   "cell_type": "code",
   "execution_count": null,
   "id": "c6688b0a",
   "metadata": {},
   "outputs": [],
   "source": [
    "plt.plot(np.mean(dff,axis=(0,1))[0:-1])\n",
    "plt.show()\n",
    "\n",
    "### plot to check hemodynamic corrected df/f frames\n",
    "print(np.shape(dff))\n",
    "plt.imshow(dff[:,:,5])\n",
    "plt.show()\n",
    "\n",
    "print(np.shape(dff))\n",
    "plt.imshow(dff[:,:,550])\n",
    "plt.show()\n",
    "\n",
    "print(np.shape(dff))\n",
    "plt.imshow(dff[:,:,50000])\n",
    "plt.show()"
   ]
  },
  {
   "cell_type": "code",
   "execution_count": null,
   "id": "8a4f7499",
   "metadata": {},
   "outputs": [],
   "source": [
    "### save as mat file\n",
    "savedir=ddir+'/cscope-analysis/'\n",
    "# savefile=savedir+'dff_hemo_alpha.mat'\n",
    "savefile=savedir+'dff_hemo.mat'\n",
    "scipy.io.savemat(savefile, {'dff':dff})"
   ]
  },
  {
   "cell_type": "code",
   "execution_count": null,
   "id": "50522f8c",
   "metadata": {},
   "outputs": [],
   "source": []
  },
  {
   "cell_type": "code",
   "execution_count": null,
   "id": "861c9f3d",
   "metadata": {
    "scrolled": true
   },
   "outputs": [],
   "source": [
    "# # check data after hemodynamic correct\n",
    "# import cv2\n",
    "# import numpy as np\n",
    "# import matplotlib.pyplot as plt\n",
    "# movie_file='C:/Users/sujin/cscope_gk/2021_12_14/13_18_58/cscope-analysis/blue_mc.mp4'\n",
    "# cap = cv2.VideoCapture(movie_file)\n",
    "# ret, frame = cap.read()    \n",
    "# print(np.shape(frame))\n",
    "# plt.imshow(frame[:,:,2]) "
   ]
  },
  {
   "cell_type": "code",
   "execution_count": null,
   "id": "6115b863",
   "metadata": {},
   "outputs": [],
   "source": []
  }
 ],
 "metadata": {
  "kernelspec": {
   "display_name": "Python 3 (ipykernel)",
   "language": "python",
   "name": "python3"
  },
  "language_info": {
   "codemirror_mode": {
    "name": "ipython",
    "version": 3
   },
   "file_extension": ".py",
   "mimetype": "text/x-python",
   "name": "python",
   "nbconvert_exporter": "python",
   "pygments_lexer": "ipython3",
   "version": "3.9.13"
  }
 },
 "nbformat": 4,
 "nbformat_minor": 5
}
